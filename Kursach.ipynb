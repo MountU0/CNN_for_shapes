{
 "cells": [
  {
   "cell_type": "markdown",
   "metadata": {},
   "source": [
    "## Начало"
   ]
  },
  {
   "cell_type": "markdown",
   "metadata": {},
   "source": [
    "Датасет: https://www.kaggle.com/cactus3/basicshapes"
   ]
  },
  {
   "cell_type": "code",
   "execution_count": 1,
   "metadata": {},
   "outputs": [],
   "source": [
    "import os\n",
    "import math\n",
    "import numpy as np\n",
    "import pandas as pd\n",
    "from tqdm import tqdm_notebook\n",
    "import matplotlib.pyplot as plt\n",
    "%matplotlib inline\n",
    "\n",
    "import csv\n",
    "\n",
    "# модули библиотеки PyTorch\n",
    "import torch\n",
    "from torchvision import transforms\n",
    "from torch.utils.data import DataLoader\n",
    "from skimage import io\n",
    "# метрика качества \n",
    "from sklearn.metrics import accuracy_score"
   ]
  },
  {
   "cell_type": "markdown",
   "metadata": {},
   "source": [
    "Так как используется датасет без готового файла csv, его нужно создать:"
   ]
  },
  {
   "cell_type": "code",
   "execution_count": 2,
   "metadata": {},
   "outputs": [],
   "source": [
    "header = ['file', 'figure']\n",
    "\n",
    "with open('kurs/data.csv', 'w', encoding='UTF8', newline='') as f:\n",
    "    writer = csv.writer(f)\n",
    "\n",
    "    # write the header\n",
    "    writer.writerow(header)\n",
    "\n",
    "    for i in range(1,101):\n",
    "        data = ['circles/drawing('+str(i)+').png', 0 ]\n",
    "        writer.writerow(data)\n",
    "        data = ['squares/drawing('+str(i)+').png', 1 ]\n",
    "        writer.writerow(data)\n",
    "        data = ['triangles/drawing('+str(i)+').png', 2 ]\n",
    "        writer.writerow(data)"
   ]
  },
  {
   "cell_type": "markdown",
   "metadata": {},
   "source": [
    "Подговтовка датасета для pytorch"
   ]
  },
  {
   "cell_type": "code",
   "execution_count": 3,
   "metadata": {},
   "outputs": [
    {
     "name": "stdout",
     "output_type": "stream",
     "text": [
      "<class 'torch.utils.data.dataset.Subset'>\n"
     ]
    },
    {
     "data": {
      "text/plain": [
       "(torch.Size([25, 3, 28, 28]), torch.Size([25]))"
      ]
     },
     "execution_count": 3,
     "metadata": {},
     "output_type": "execute_result"
    }
   ],
   "source": [
    "class DatasetParser():\n",
    "    def __init__(self, csv_file, root_dir, transform=None):\n",
    "        self.annonations = pd.read_csv(csv_file)\n",
    "        self.root_dir = root_dir\n",
    "        self.transform = transform\n",
    "    \n",
    "    def __len__(self):\n",
    "        return len(self.annonations)\n",
    "    \n",
    "    def __getitem__(self, index):\n",
    "        img_path = os.path.join(self.root_dir, self.annonations.iloc[index,0])\n",
    "        image = io.imread(img_path)\n",
    "        y_label = torch.tensor(int(self.annonations.iloc[index,1]))\n",
    "\n",
    "        if self.transform:\n",
    "            image = self.transform(image)\n",
    "\n",
    "        return (image, y_label)\n",
    "\n",
    "dataset = DatasetParser(csv_file='kurs/data.csv', root_dir='kurs', transform=transforms.ToTensor() )# <class '__main__.DatasetParser'>\n",
    "\n",
    "train_set, test_set = torch.utils.data.random_split(dataset, [250,50])# получаем 2 рандомно составлнных сета итерированием объекта DatasetParser. Возвращент:<class 'torch.utils.data.dataset.Subset'>\n",
    "\n",
    "train_loader = DataLoader(dataset=train_set, batch_size=25, shuffle=False)\n",
    "test_loader = DataLoader(dataset=test_set, batch_size=len(test_set), shuffle=False)\n",
    "\n",
    "print(type(test_set))\n",
    "\n",
    "dataiter = iter(train_loader)\n",
    "\n",
    "# батч картинок и батч ответов к картинкам\n",
    "images, labels = dataiter.next()\n",
    "\n",
    "images.shape, labels.shape"
   ]
  },
  {
   "cell_type": "markdown",
   "metadata": {},
   "source": [
    "Рисовалка:"
   ]
  },
  {
   "cell_type": "code",
   "execution_count": 4,
   "metadata": {},
   "outputs": [
    {
     "data": {
      "image/png": "[encoded data removed]",
      "text/plain": [
       "<Figure size 2160x360 with 10 Axes>"
      ]
     },
     "metadata": {
      "needs_background": "light"
     },
     "output_type": "display_data"
    }
   ],
   "source": [
    "def show_imgs(imgs, labels):\n",
    "  \n",
    "    f, axes= plt.subplots(1, 10, figsize=(30,5))\n",
    "    for i, axis in enumerate(axes):\n",
    "      axes[i].imshow(np.transpose(imgs[i].numpy(), (1, 2, 0)), cmap='gray') #Транспонируем картинку в [28,28,3]\n",
    "      axes[i].set_title(labels[i].numpy())\n",
    "    plt.show()\n",
    "\n",
    "def show_epoch(n_epoch, loss_epoch, color):\n",
    "\n",
    "  if math.sqrt(n_epoch) > int(math.sqrt(n_epoch)):\n",
    "    n_epoch = int(math.sqrt(n_epoch+1))\n",
    "  else:\n",
    "    n_epoch = int(math.sqrt(n_epoch))\n",
    "\n",
    "  counter = 0\n",
    "  f, ax= plt.subplots(n_epoch, n_epoch, sharex='col', sharey='row',figsize=(3*n_epoch,3*n_epoch))\n",
    "  for i in range(n_epoch):\n",
    "    for j in range(n_epoch):\n",
    "      if counter<len(loss_epoch):\n",
    "        ax[i,j].plot(loss_epoch[counter],color)\n",
    "        counter += 1\n",
    "        ax[i,j].set_title(counter)\n",
    "  plt.show()\n",
    "\n",
    "show_imgs(images, labels)"
   ]
  },
  {
   "cell_type": "markdown",
   "metadata": {},
   "source": [
    "## Сверточная нейронная сеть"
   ]
  },
  {
   "cell_type": "markdown",
   "metadata": {},
   "source": [
    "#TODO Вывести рамерности, веса etc"
   ]
  },
  {
   "cell_type": "code",
   "execution_count": 5,
   "metadata": {},
   "outputs": [],
   "source": [
    "# модуль, где определены слои для нейронных сетей\n",
    "import torch.nn as nn\n",
    "# модуль, где определены активайии для слоев нейронных сетей\n",
    "import torch.nn.functional as F"
   ]
  },
  {
   "cell_type": "code",
   "execution_count": 6,
   "metadata": {},
   "outputs": [],
   "source": [
    "# класс для удобного перевода картинки из двумерного объекта в вектор\n",
    "class Flatten(nn.Module):\n",
    "  def forward(self, input):\n",
    "    return input.view(input.size(0), -1)#пример одной картинки - [3,28,28] -> [конкатенация листов в тензоре]\n",
    "\n",
    "class SimpleNN(nn.Module):\n",
    "  def __init__(self):\n",
    "    super().__init__()\n",
    "    self.flatten = Flatten()\n",
    "    self.drop = nn.Dropout(p=0.5)\n",
    "    self.mp = nn.MaxPool2d(kernel_size=2, stride=2)\n",
    "\n",
    "    self.conv1 = nn.Conv2d(3, 12, kernel_size=4,stride=2)\n",
    "    self.conv2 = nn.Conv2d(12, 20, kernel_size=3,padding=2)\n",
    "    self.conv3 = nn.Conv2d(20, 40, kernel_size=3,padding=1)\n",
    "\n",
    "    self.fc1 = nn.Linear(160, 170)\n",
    "    self.fc2 = nn.Linear(170, 170)\n",
    "    self.fc3 = nn.Linear(170, 3)\n",
    "\n",
    "  def forward(self, x):\n",
    "    # forward pass сети\n",
    "\n",
    "    # переводим входной объект из картинки в вектор\n",
    "    # применение слоев и батч нормов по очереди:\n",
    "    x = F.relu(self.conv1(x))\n",
    "    x = self.mp(x)\n",
    "    x = F.relu(self.conv2(x))\n",
    "    x = self.mp(x)\n",
    "    x = F.relu(self.conv3(x))\n",
    "    x = self.mp(x)\n",
    "    \n",
    "    x = self.flatten(x)\n",
    "\n",
    "    x = F.relu(self.fc1(x))\n",
    "    x = self.drop(x)\n",
    "    x = F.relu(self.fc2(x))\n",
    "    x = self.drop(x)\n",
    "    x = F.softmax(self.fc3(x))\n",
    "\n",
    "    return x\n",
    "\n",
    "def train(net, n_epoch=40):\n",
    "  # выбираем функцию потерь\n",
    "  loss_fn = torch.nn.CrossEntropyLoss()\n",
    "  loss_mass = []\n",
    "  loss_mass_test = []\n",
    "  loss_epoch = []\n",
    "  loss_epoch_test = []\n",
    "\n",
    "  # выбираем алгоритм оптимизации и learning_rate\n",
    "  learning_rate = 1e-3\n",
    "  optimizer = torch.optim.Adam(net.parameters(), lr=learning_rate)\n",
    "\n",
    "  test_dataiter = iter(test_loader)\n",
    "  X_batch_test, y_batch_test = test_dataiter.next()\n",
    "\n",
    "  for epoch in tqdm_notebook(range(n_epoch)):\n",
    "\n",
    "    running_loss = 0.0\n",
    "    train_dataiter = iter(train_loader)\n",
    "\n",
    "    loss_local = []\n",
    "    loss_local_test = []\n",
    "    for i, batch in enumerate(train_dataiter):\n",
    "      # так получаем текущий батч\n",
    "      X_batch, y_batch = batch\n",
    "      \n",
    "      # обнуляем веса\n",
    "      optimizer.zero_grad()\n",
    "      \n",
    "      # forward pass (получение ответов на батч картинок)\n",
    "      y_pred = net(X_batch)\n",
    "      y_pred_test = net(X_batch_test)\n",
    "      # вычисление лосса от выданных сетью ответов и правильных ответов на батч\n",
    "      loss = loss_fn(y_pred, y_batch)\n",
    "      loss_test = loss_fn(y_pred_test,y_batch_test)\n",
    "      # bsckpropagation (вычисление градиентов)\n",
    "      loss.backward()\n",
    "      # обновление весов сети\n",
    "      optimizer.step()\n",
    "\n",
    "      # выведем текущий loss\n",
    "      running_loss += loss.item()\n",
    "      \n",
    "      loss_mass.append(float(loss.item()))\n",
    "      loss_mass_test.append(float(loss_test.item()))\n",
    "\n",
    "      loss_local.append(float(loss.item()))\n",
    "      loss_local_test.append(float(loss_test.item()))\n",
    "\n",
    "      #print('[%d, %5d] loss: %.3f' % (epoch + 1, i + 1, running_loss))\n",
    "      running_loss = 0.0\n",
    "      \n",
    "    loss_epoch.append(loss_local)\n",
    "    loss_epoch_test.append(loss_local_test)\n",
    "    \n",
    "  plt.title('Loss')\n",
    "  plt.plot(loss_mass)\n",
    "  plt.plot(loss_mass_test)\n",
    "  plt.legend(['Train set','Test set'])\n",
    "  plt.show()\n",
    "  \n",
    "  #show_epoch(n_epoch,loss_epoch,'b')# graph_x, graph_y, loss_epoch- list of a lists of loss\n",
    "  #show_epoch(n_epoch,loss_epoch_test,'orange')\n",
    "\n",
    "  print('Обучение закончено')\n",
    "  return net"
   ]
  },
  {
   "cell_type": "code",
   "execution_count": 7,
   "metadata": {},
   "outputs": [
    {
     "data": {
      "text/plain": [
       "<All keys matched successfully>"
      ]
     },
     "execution_count": 7,
     "metadata": {},
     "output_type": "execute_result"
    }
   ],
   "source": [
    "net = SimpleNN()\n",
    "net.load_state_dict(torch.load('kurs/save.state'))\n",
    "#net = train(net)"
   ]
  },
  {
   "cell_type": "code",
   "execution_count": 8,
   "metadata": {},
   "outputs": [],
   "source": [
    "#torch.save(net.state_dict(),'save.state')"
   ]
  },
  {
   "cell_type": "code",
   "execution_count": 9,
   "metadata": {},
   "outputs": [
    {
     "name": "stdout",
     "output_type": "stream",
     "text": [
      "torch.Size([20, 12, 3, 3])\n"
     ]
    }
   ],
   "source": [
    "print(net.state_dict()['conv2.weight'].shape)"
   ]
  },
  {
   "cell_type": "code",
   "execution_count": 13,
   "metadata": {},
   "outputs": [
    {
     "name": "stdout",
     "output_type": "stream",
     "text": [
      "1.0\n"
     ]
    },
    {
     "name": "stderr",
     "output_type": "stream",
     "text": [
      "C:\\Users\\Nigel\\AppData\\Local\\Temp/ipykernel_11476/405106806.py:39: UserWarning: Implicit dimension choice for softmax has been deprecated. Change the call to include dim=X as an argument.\n",
      "  x = F.softmax(self.fc3(x))\n",
      "C:\\Users\\Nigel\\AppData\\Local\\Temp/ipykernel_11476/405106806.py:39: UserWarning: Implicit dimension choice for softmax has been deprecated. Change the call to include dim=X as an argument.\n",
      "  x = F.softmax(self.fc3(x))\n"
     ]
    },
    {
     "data": {
      "image/png": "[encoded data removed]",
      "text/plain": [
       "<Figure size 432x288 with 1 Axes>"
      ]
     },
     "metadata": {
      "needs_background": "light"
     },
     "output_type": "display_data"
    }
   ],
   "source": [
    "test_dataiter = iter(test_loader)\n",
    "images, labels = test_dataiter.next()\n",
    "print(accuracy_score(labels.numpy(), np.argmax(net.forward(images).detach().numpy(), axis=1)))\n",
    "#print(labels.numpy())\n",
    "#print(np.argmax(net.forward(images).detach().numpy(), axis=1))\n",
    "\n",
    "#hist\n",
    "true_class =[0,0,0]\n",
    "for i, el in enumerate(labels.numpy()):\n",
    "    if el == np.argmax(net.forward(images).detach().numpy(), axis=1)[i]:\n",
    "        true_class[el]+=1\n",
    "x = np.arange(3)\n",
    "plt.title('Correct answers by classes')\n",
    "plt.bar(x, height=true_class)\n",
    "plt.xticks(x, ['Circle','Square','Triangle'])\n",
    "plt.grid()"
   ]
  },
  {
   "cell_type": "markdown",
   "metadata": {},
   "source": [
    "## Новое одиночное изображение"
   ]
  },
  {
   "cell_type": "code",
   "execution_count": 11,
   "metadata": {},
   "outputs": [
    {
     "name": "stderr",
     "output_type": "stream",
     "text": [
      "C:\\Users\\Nigel\\AppData\\Local\\Temp/ipykernel_11476/405106806.py:39: UserWarning: Implicit dimension choice for softmax has been deprecated. Change the call to include dim=X as an argument.\n",
      "  x = F.softmax(self.fc3(x))\n"
     ]
    },
    {
     "data": {
      "text/plain": [
       "<matplotlib.image.AxesImage at 0x18275454430>"
      ]
     },
     "execution_count": 11,
     "metadata": {},
     "output_type": "execute_result"
    },
    {
     "data": {
      "image/png": "[encoded data removed]",
      "text/plain": [
       "<Figure size 432x288 with 1 Axes>"
      ]
     },
     "metadata": {
      "needs_background": "light"
     },
     "output_type": "display_data"
    }
   ],
   "source": [
    "myimg = io.imread('kurs/drawing(1).png')\n",
    "my_tens = transforms.ToTensor()\n",
    "\n",
    "xx_image = my_tens(myimg)\n",
    "yy_label = torch.tensor(int(2))\n",
    "\n",
    "myimgSet = [(xx_image, yy_label)]\n",
    "\n",
    "_loader2 = DataLoader(dataset=myimgSet, batch_size=1, shuffle=False)\n",
    "_dataiter = iter(_loader2)\n",
    "ima, lab = _dataiter.next()\n",
    "num_to_name = {\n",
    "    0: \"Circle\",\n",
    "    1: \"Square\",\n",
    "    2: \"Triangle\"\n",
    "}\n",
    "net.eval()\n",
    "name = num_to_name[np.argmax(net.forward(ima).detach().numpy(), axis=1)[0]]\n",
    "\n",
    "fig, axes = plt.subplots()\n",
    "axes.set_title(name)\n",
    "axes.imshow(np.transpose(ima[0].numpy(), (1, 2, 0)), cmap='gray')"
   ]
  }
 ],
 "metadata": {
  "interpreter": {
   "hash": "77692eacb61ca7f3724e2735e70318e8040d28b59f4ddb11b698922920e1e207"
  },
  "kernelspec": {
   "display_name": "Python 3.9.7 64-bit ('base': conda)",
   "language": "python",
   "name": "python3"
  },
  "language_info": {
   "codemirror_mode": {
    "name": "ipython",
    "version": 3
   },
   "file_extension": ".py",
   "mimetype": "text/x-python",
   "name": "python",
   "nbconvert_exporter": "python",
   "pygments_lexer": "ipython3",
   "version": "3.9.7"
  },
  "orig_nbformat": 4
 },
 "nbformat": 4,
 "nbformat_minor": 2
}
